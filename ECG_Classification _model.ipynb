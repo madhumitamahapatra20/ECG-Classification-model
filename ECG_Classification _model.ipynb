{
 "cells": [
  {
   "cell_type": "markdown",
   "id": "5ywgZzJCZ1pW",
   "metadata": {
    "id": "5ywgZzJCZ1pW"
   },
   "source": [
    "### **Context**\n",
    "\n",
    "Cardiovascular diseases (CVDs) are the number 1 cause of death globally, taking an estimated 17.9 million lives each year, which accounts for 31% of all deaths worldwide. Four out of 5CVD deaths are due to heart attacks and strokes, and one-third of these deaths occur prematurely in people under 70 years of age.\n",
    "\n",
    "\n",
    "People with cardiovascular disease or who are at high cardiovascular risk (due to the presence of one or more risk factors such as hypertension, diabetes, hyperlipidaemia or already established disease) need early detection and management wherein a machine learning model can be of great help.\n"
   ]
  },
  {
   "cell_type": "markdown",
   "id": "SJwUADWQcGJx",
   "metadata": {
    "id": "SJwUADWQcGJx"
   },
   "source": [
    "## Overview of the Project.\n",
    "\n",
    "\n",
    "![flowchart_ML.png](data:image/png;base64,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)\n",
    "\n",
    "In this first 3 steps are already done in the excel (for normalisation we have used python) the rest of the part is shown here."
   ]
  },
  {
   "cell_type": "markdown",
   "id": "036613ba",
   "metadata": {
    "id": "036613ba"
   },
   "source": [
    "### Importing Libraries"
   ]
  },
  {
   "cell_type": "code",
   "execution_count": 1,
   "id": "b54a93e2",
   "metadata": {
    "id": "b54a93e2"
   },
   "outputs": [],
   "source": [
    "# Import necessary libraries\n",
    "import numpy as np  # For numerical operations\n",
    "import matplotlib.pyplot as plt  # For data visualization\n",
    "import seaborn as sns  # For enhancing data visualization\n",
    "import pandas as pd  # For data manipulation\n",
    " # For deep learning with TensorFlow"
   ]
  },
  {
   "cell_type": "code",
   "execution_count": 2,
   "id": "a27-VzhQUF06",
   "metadata": {
    "id": "a27-VzhQUF06"
   },
   "outputs": [],
   "source": [
    "# Import necessary libraries for splitting data, creating a Decision Tree classifier,\n",
    "# creating a Random Forest classifier, and for evaluation using metrics.\n",
    "from sklearn.model_selection import train_test_split  # Data splitting\n",
    "from sklearn.tree import DecisionTreeClassifier  # Decision Tree classifier\n",
    "from sklearn.ensemble import RandomForestClassifier  # Random Forest classifier\n",
    "from sklearn import metrics  # Evaluation metrics"
   ]
  },
  {
   "cell_type": "markdown",
   "id": "979115de",
   "metadata": {
    "id": "979115de"
   },
   "source": [
    "### Importing the Dataset"
   ]
  },
  {
   "cell_type": "code",
   "execution_count": 4,
   "id": "twgJR-cRUYr5",
   "metadata": {
    "colab": {
     "base_uri": "https://localhost:8080/"
    },
    "id": "twgJR-cRUYr5",
    "outputId": "9699eb78-2436-4b17-fccd-627140438590"
   },
   "outputs": [],
   "source": [
    "#dataset is collected and an Excel file is created.\n",
    "dataset = pd.read_csv('ECG_NAGPUR-2.csv')\n",
    "X = dataset.iloc[:, 0:-1].values\n",
    "y = dataset.iloc[:, -1].values"
   ]
  },
  {
   "cell_type": "code",
   "execution_count": 7,
   "id": "B714fJwKVfWv",
   "metadata": {
    "colab": {
     "base_uri": "https://localhost:8080/",
     "height": 255
    },
    "id": "B714fJwKVfWv",
    "outputId": "bf5cf471-255e-4643-c9e8-5a60ca3af54f"
   },
   "outputs": [
    {
     "data": {
      "text/html": [
       "<div>\n",
       "<style scoped>\n",
       "    .dataframe tbody tr th:only-of-type {\n",
       "        vertical-align: middle;\n",
       "    }\n",
       "\n",
       "    .dataframe tbody tr th {\n",
       "        vertical-align: top;\n",
       "    }\n",
       "\n",
       "    .dataframe thead th {\n",
       "        text-align: right;\n",
       "    }\n",
       "</style>\n",
       "<table border=\"1\" class=\"dataframe\">\n",
       "  <thead>\n",
       "    <tr style=\"text-align: right;\">\n",
       "      <th></th>\n",
       "      <th>C1</th>\n",
       "      <th>C2</th>\n",
       "      <th>C3</th>\n",
       "      <th>C4</th>\n",
       "      <th>C5</th>\n",
       "      <th>C6</th>\n",
       "      <th>C7</th>\n",
       "      <th>C8</th>\n",
       "      <th>C9</th>\n",
       "      <th>C10</th>\n",
       "      <th>...</th>\n",
       "      <th>C4992</th>\n",
       "      <th>C4993</th>\n",
       "      <th>C4994</th>\n",
       "      <th>C4995</th>\n",
       "      <th>C4996</th>\n",
       "      <th>C4997</th>\n",
       "      <th>C4998</th>\n",
       "      <th>C4999</th>\n",
       "      <th>C5000</th>\n",
       "      <th>Class</th>\n",
       "    </tr>\n",
       "  </thead>\n",
       "  <tbody>\n",
       "    <tr>\n",
       "      <th>0</th>\n",
       "      <td>0.406780</td>\n",
       "      <td>0.403955</td>\n",
       "      <td>0.401130</td>\n",
       "      <td>0.401130</td>\n",
       "      <td>0.401130</td>\n",
       "      <td>0.395480</td>\n",
       "      <td>0.395480</td>\n",
       "      <td>0.392655</td>\n",
       "      <td>0.395480</td>\n",
       "      <td>0.395480</td>\n",
       "      <td>...</td>\n",
       "      <td>0.737288</td>\n",
       "      <td>0.742938</td>\n",
       "      <td>0.737288</td>\n",
       "      <td>0.734463</td>\n",
       "      <td>0.728814</td>\n",
       "      <td>0.723164</td>\n",
       "      <td>0.711864</td>\n",
       "      <td>0.703390</td>\n",
       "      <td>0.697740</td>\n",
       "      <td>1</td>\n",
       "    </tr>\n",
       "    <tr>\n",
       "      <th>1</th>\n",
       "      <td>0.711253</td>\n",
       "      <td>0.709130</td>\n",
       "      <td>0.711253</td>\n",
       "      <td>0.711253</td>\n",
       "      <td>0.707006</td>\n",
       "      <td>0.707006</td>\n",
       "      <td>0.709130</td>\n",
       "      <td>0.707006</td>\n",
       "      <td>0.707006</td>\n",
       "      <td>0.709130</td>\n",
       "      <td>...</td>\n",
       "      <td>0.900212</td>\n",
       "      <td>0.904459</td>\n",
       "      <td>0.908705</td>\n",
       "      <td>0.912951</td>\n",
       "      <td>0.915074</td>\n",
       "      <td>0.915074</td>\n",
       "      <td>0.919321</td>\n",
       "      <td>0.925690</td>\n",
       "      <td>0.925690</td>\n",
       "      <td>1</td>\n",
       "    </tr>\n",
       "    <tr>\n",
       "      <th>2</th>\n",
       "      <td>0.438083</td>\n",
       "      <td>0.438083</td>\n",
       "      <td>0.434088</td>\n",
       "      <td>0.431425</td>\n",
       "      <td>0.434088</td>\n",
       "      <td>0.435419</td>\n",
       "      <td>0.435419</td>\n",
       "      <td>0.436751</td>\n",
       "      <td>0.439414</td>\n",
       "      <td>0.436751</td>\n",
       "      <td>...</td>\n",
       "      <td>0.384820</td>\n",
       "      <td>0.384820</td>\n",
       "      <td>0.386152</td>\n",
       "      <td>0.388815</td>\n",
       "      <td>0.392810</td>\n",
       "      <td>0.395473</td>\n",
       "      <td>0.391478</td>\n",
       "      <td>0.388815</td>\n",
       "      <td>0.388815</td>\n",
       "      <td>0</td>\n",
       "    </tr>\n",
       "    <tr>\n",
       "      <th>3</th>\n",
       "      <td>0.916667</td>\n",
       "      <td>0.913462</td>\n",
       "      <td>0.923077</td>\n",
       "      <td>0.929487</td>\n",
       "      <td>0.939103</td>\n",
       "      <td>0.929487</td>\n",
       "      <td>0.919872</td>\n",
       "      <td>0.916667</td>\n",
       "      <td>0.916667</td>\n",
       "      <td>0.919872</td>\n",
       "      <td>...</td>\n",
       "      <td>0.846154</td>\n",
       "      <td>0.833333</td>\n",
       "      <td>0.833333</td>\n",
       "      <td>0.839744</td>\n",
       "      <td>0.836538</td>\n",
       "      <td>0.833333</td>\n",
       "      <td>0.833333</td>\n",
       "      <td>0.830128</td>\n",
       "      <td>0.836538</td>\n",
       "      <td>1</td>\n",
       "    </tr>\n",
       "    <tr>\n",
       "      <th>4</th>\n",
       "      <td>0.748691</td>\n",
       "      <td>0.746073</td>\n",
       "      <td>0.738220</td>\n",
       "      <td>0.740838</td>\n",
       "      <td>0.748691</td>\n",
       "      <td>0.746073</td>\n",
       "      <td>0.746073</td>\n",
       "      <td>0.738220</td>\n",
       "      <td>0.740838</td>\n",
       "      <td>0.751309</td>\n",
       "      <td>...</td>\n",
       "      <td>0.769634</td>\n",
       "      <td>0.767016</td>\n",
       "      <td>0.764398</td>\n",
       "      <td>0.772251</td>\n",
       "      <td>0.774869</td>\n",
       "      <td>0.777487</td>\n",
       "      <td>0.782723</td>\n",
       "      <td>0.787958</td>\n",
       "      <td>0.787958</td>\n",
       "      <td>0</td>\n",
       "    </tr>\n",
       "  </tbody>\n",
       "</table>\n",
       "<p>5 rows × 5001 columns</p>\n",
       "</div>"
      ],
      "text/plain": [
       "         C1        C2        C3        C4        C5        C6        C7  \\\n",
       "0  0.406780  0.403955  0.401130  0.401130  0.401130  0.395480  0.395480   \n",
       "1  0.711253  0.709130  0.711253  0.711253  0.707006  0.707006  0.709130   \n",
       "2  0.438083  0.438083  0.434088  0.431425  0.434088  0.435419  0.435419   \n",
       "3  0.916667  0.913462  0.923077  0.929487  0.939103  0.929487  0.919872   \n",
       "4  0.748691  0.746073  0.738220  0.740838  0.748691  0.746073  0.746073   \n",
       "\n",
       "         C8        C9       C10  ...     C4992     C4993     C4994     C4995  \\\n",
       "0  0.392655  0.395480  0.395480  ...  0.737288  0.742938  0.737288  0.734463   \n",
       "1  0.707006  0.707006  0.709130  ...  0.900212  0.904459  0.908705  0.912951   \n",
       "2  0.436751  0.439414  0.436751  ...  0.384820  0.384820  0.386152  0.388815   \n",
       "3  0.916667  0.916667  0.919872  ...  0.846154  0.833333  0.833333  0.839744   \n",
       "4  0.738220  0.740838  0.751309  ...  0.769634  0.767016  0.764398  0.772251   \n",
       "\n",
       "      C4996     C4997     C4998     C4999     C5000  Class  \n",
       "0  0.728814  0.723164  0.711864  0.703390  0.697740      1  \n",
       "1  0.915074  0.915074  0.919321  0.925690  0.925690      1  \n",
       "2  0.392810  0.395473  0.391478  0.388815  0.388815      0  \n",
       "3  0.836538  0.833333  0.833333  0.830128  0.836538      1  \n",
       "4  0.774869  0.777487  0.782723  0.787958  0.787958      0  \n",
       "\n",
       "[5 rows x 5001 columns]"
      ]
     },
     "execution_count": 7,
     "metadata": {},
     "output_type": "execute_result"
    }
   ],
   "source": [
    "dataset.head()"
   ]
  },
  {
   "cell_type": "markdown",
   "id": "2fc40a94",
   "metadata": {
    "id": "2fc40a94"
   },
   "source": [
    "Splitting the dataset into the Training set and Test set"
   ]
  },
  {
   "cell_type": "code",
   "execution_count": 8,
   "id": "EMuVPbWeXdKC",
   "metadata": {
    "id": "EMuVPbWeXdKC"
   },
   "outputs": [],
   "source": [
    "X_train, X_test, y_train, y_test = train_test_split( X, y, test_size=0.3, random_state=0)"
   ]
  },
  {
   "cell_type": "code",
   "execution_count": 26,
   "id": "71ae913b",
   "metadata": {},
   "outputs": [
    {
     "name": "stdout",
     "output_type": "stream",
     "text": [
      "[[0.81195308 0.81381493 0.81009123 ... 0.54142618 0.51405697 0.47998511]\n",
      " [0.65751921 0.65751921 0.65642152 ... 0.64763996 0.64873765 0.64873765]\n",
      " [0.57446809 0.56973995 0.57210402 ... 0.61938534 0.62884161 0.63356974]\n",
      " ...\n",
      " [0.7514881  0.7514881  0.75       ... 0.89583333 0.89285714 0.89136905]\n",
      " [0.5744186  0.5744186  0.58604651 ... 0.39534884 0.39767442 0.4       ]\n",
      " [0.58045858 0.58025201 0.57839289 ... 0.73577773 0.74203677 0.74205743]]\n"
     ]
    }
   ],
   "source": [
    "print(X_train)"
   ]
  },
  {
   "cell_type": "code",
   "execution_count": 27,
   "id": "f779aa44",
   "metadata": {},
   "outputs": [
    {
     "name": "stdout",
     "output_type": "stream",
     "text": [
      "[1 1 1 1 1 1 1 1 0 1 0 0 1 1 0 1 0 1 0 0 1 1 1 1 1 0 1 1 0 0 0 0 1 1 1 1 1\n",
      " 0 1 0 1 1 1 1 1 0 0 1 1 1 1 1 1 0 0 0 1 1 1 0 1 1 1 0 0 1 1 1 1 1 0 1 1 1\n",
      " 0 0 1 0 1 1 1 0 1 0 1 1 1 1 1 1 1 1 1 1 0 1 1 1 1 1 1 1 1 1 1 1 1 1 1 1 1\n",
      " 1 1 1 1 1 1 0 0 1 1 1 1 0 1 0 1 1 1 1 1 1 0 1 0 1 1 0 1 1 0 1 1 1 0 1 1 1\n",
      " 1 1 1 1 1 0 0 0 1 1 0 1 1 1 1 0 1 1 1 0 1 1 1 1 1 0 1 1 1 1 0 1 1 1 0 1]\n"
     ]
    }
   ],
   "source": [
    "print(y_train)"
   ]
  },
  {
   "cell_type": "code",
   "execution_count": 28,
   "id": "e835b771",
   "metadata": {},
   "outputs": [
    {
     "name": "stdout",
     "output_type": "stream",
     "text": [
      "[[0.27250608 0.27980535 0.2919708  ... 0.26034063 0.25547445 0.25547445]\n",
      " [0.49622166 0.51133501 0.53400504 ... 0.35559194 0.35302015 0.35057431]\n",
      " [0.56373938 0.59773371 0.63172805 ... 0.78739377 0.79201133 0.79759207]\n",
      " ...\n",
      " [0.73953975 0.7374477  0.73430962 ... 0.791841   0.79288703 0.791841  ]\n",
      " [0.50531915 0.50558511 0.50797872 ... 0.47207447 0.4668883  0.4668617 ]\n",
      " [0.31476536 0.31667303 0.31095002 ... 0.20259443 0.20959557 0.2095765 ]]\n"
     ]
    }
   ],
   "source": [
    "print(X_test)"
   ]
  },
  {
   "cell_type": "code",
   "execution_count": 29,
   "id": "3e306214",
   "metadata": {},
   "outputs": [
    {
     "name": "stdout",
     "output_type": "stream",
     "text": [
      "[0 1 1 1 1 1 0 1 0 1 1 1 1 1 1 0 0 1 1 1 1 1 1 1 1 1 1 1 1 0 0 1 1 1 1 1 1\n",
      " 1 1 1 1 1 0 1 1 1 1 1 1 1 1 1 1 1 0 1 1 0 1 0 1 1 0 0 1 1 0 1 1 1 1 1 1 1\n",
      " 0 1 1 0 1]\n"
     ]
    }
   ],
   "source": [
    "print(y_test)"
   ]
  },
  {
   "cell_type": "markdown",
   "id": "BFkqDfvwauxr",
   "metadata": {
    "id": "BFkqDfvwauxr"
   },
   "source": [
    "## Model Training and Evaluation"
   ]
  },
  {
   "cell_type": "markdown",
   "id": "M8U8KpRMZewH",
   "metadata": {
    "id": "M8U8KpRMZewH"
   },
   "source": [
    "### 1. Random Forest Classifier"
   ]
  },
  {
   "cell_type": "code",
   "execution_count": 57,
   "id": "AE6qKeoOZNxU",
   "metadata": {
    "id": "AE6qKeoOZNxU"
   },
   "outputs": [
    {
     "data": {
      "text/plain": [
       "RandomForestClassifier(n_estimators=50, random_state=42)"
      ]
     },
     "execution_count": 57,
     "metadata": {},
     "output_type": "execute_result"
    }
   ],
   "source": [
    "from sklearn.ensemble import RandomForestClassifier\n",
    "classifier = RandomForestClassifier(n_estimators = 50, random_state = 42)\n",
    "classifier.fit(X_train, y_train)"
   ]
  },
  {
   "cell_type": "code",
   "execution_count": 58,
   "id": "51H2JLhWHrqX",
   "metadata": {
    "colab": {
     "base_uri": "https://localhost:8080/",
     "height": 477
    },
    "id": "51H2JLhWHrqX",
    "outputId": "44c052be-6228-4d3a-a534-62ef9fa4a417"
   },
   "outputs": [
    {
     "name": "stdout",
     "output_type": "stream",
     "text": [
      "[[1 0]\n",
      " [1 1]\n",
      " [1 1]\n",
      " [1 1]\n",
      " [1 1]\n",
      " [1 1]\n",
      " [1 0]\n",
      " [1 1]\n",
      " [1 0]\n",
      " [0 1]\n",
      " [1 1]\n",
      " [1 1]\n",
      " [1 1]\n",
      " [1 1]\n",
      " [1 1]\n",
      " [1 0]\n",
      " [1 0]\n",
      " [1 1]\n",
      " [1 1]\n",
      " [1 1]\n",
      " [1 1]\n",
      " [1 1]\n",
      " [1 1]\n",
      " [1 1]\n",
      " [1 1]\n",
      " [1 1]\n",
      " [1 1]\n",
      " [1 1]\n",
      " [1 1]\n",
      " [1 0]\n",
      " [1 0]\n",
      " [1 1]\n",
      " [1 1]\n",
      " [1 1]\n",
      " [0 1]\n",
      " [1 1]\n",
      " [1 1]\n",
      " [1 1]\n",
      " [1 1]\n",
      " [1 1]\n",
      " [1 1]\n",
      " [1 1]\n",
      " [1 0]\n",
      " [1 1]\n",
      " [1 1]\n",
      " [1 1]\n",
      " [1 1]\n",
      " [1 1]\n",
      " [1 1]\n",
      " [1 1]\n",
      " [1 1]\n",
      " [1 1]\n",
      " [1 1]\n",
      " [1 1]\n",
      " [1 0]\n",
      " [1 1]\n",
      " [1 1]\n",
      " [1 0]\n",
      " [0 1]\n",
      " [1 0]\n",
      " [1 1]\n",
      " [1 1]\n",
      " [1 0]\n",
      " [1 0]\n",
      " [1 1]\n",
      " [1 1]\n",
      " [1 0]\n",
      " [1 1]\n",
      " [1 1]\n",
      " [1 1]\n",
      " [1 1]\n",
      " [1 1]\n",
      " [1 1]\n",
      " [1 1]\n",
      " [1 0]\n",
      " [1 1]\n",
      " [1 1]\n",
      " [1 0]\n",
      " [1 1]]\n"
     ]
    }
   ],
   "source": [
    "y_pred = classifier.predict(X_test)\n",
    "print(np.concatenate((y_pred.reshape(len(y_pred),1), y_test.reshape(len(y_test),1)),1))"
   ]
  },
  {
   "cell_type": "code",
   "execution_count": 59,
   "id": "IOSs_JwgKlWu",
   "metadata": {
    "colab": {
     "base_uri": "https://localhost:8080/",
     "height": 564
    },
    "id": "IOSs_JwgKlWu",
    "outputId": "2ed9fc8f-9e08-48f9-d2cc-c69cac6ce24b"
   },
   "outputs": [
    {
     "name": "stdout",
     "output_type": "stream",
     "text": [
      "[[ 0 16]\n",
      " [ 3 60]]\n"
     ]
    },
    {
     "data": {
      "text/plain": [
       "0.759493670886076"
      ]
     },
     "execution_count": 59,
     "metadata": {},
     "output_type": "execute_result"
    }
   ],
   "source": [
    "from sklearn.metrics import confusion_matrix, accuracy_score\n",
    "cm = confusion_matrix(y_test, y_pred)\n",
    "print(cm)\n",
    "accuracy_score(y_test, y_pred)"
   ]
  },
  {
   "cell_type": "code",
   "execution_count": 60,
   "id": "98641d8c",
   "metadata": {},
   "outputs": [
    {
     "name": "stdout",
     "output_type": "stream",
     "text": [
      "              precision    recall  f1-score   support\n",
      "\n",
      "           0       0.00      0.00      0.00        16\n",
      "           1       0.79      0.95      0.86        63\n",
      "\n",
      "    accuracy                           0.76        79\n",
      "   macro avg       0.39      0.48      0.43        79\n",
      "weighted avg       0.63      0.76      0.69        79\n",
      "\n"
     ]
    }
   ],
   "source": [
    "from sklearn.metrics import classification_report\n",
    "print(classification_report(y_test,y_pred))"
   ]
  },
  {
   "cell_type": "markdown",
   "id": "1cccf884",
   "metadata": {},
   "source": [
    "# 2. Decision Tree Classifier"
   ]
  },
  {
   "cell_type": "code",
   "execution_count": 61,
   "id": "qrEi7YdNO2hT",
   "metadata": {
    "colab": {
     "base_uri": "https://localhost:8080/"
    },
    "id": "qrEi7YdNO2hT",
    "outputId": "dbc54ec6-388f-423e-92b7-f74b10122a20"
   },
   "outputs": [
    {
     "data": {
      "text/plain": [
       "DecisionTreeClassifier(criterion='entropy', random_state=10)"
      ]
     },
     "execution_count": 61,
     "metadata": {},
     "output_type": "execute_result"
    }
   ],
   "source": [
    "from sklearn.tree import DecisionTreeClassifier\n",
    "classifier = DecisionTreeClassifier(criterion = 'entropy', random_state = 10)\n",
    "classifier.fit(X_train, y_train)"
   ]
  },
  {
   "cell_type": "code",
   "execution_count": 62,
   "id": "hrMaUobDPlBv",
   "metadata": {
    "colab": {
     "base_uri": "https://localhost:8080/",
     "height": 564
    },
    "id": "hrMaUobDPlBv",
    "outputId": "abb5352d-f54c-48b7-de2e-0588d0bb0fa2"
   },
   "outputs": [
    {
     "name": "stdout",
     "output_type": "stream",
     "text": [
      "[[1 0]\n",
      " [1 1]\n",
      " [1 1]\n",
      " [0 1]\n",
      " [0 1]\n",
      " [1 1]\n",
      " [0 0]\n",
      " [1 1]\n",
      " [1 0]\n",
      " [0 1]\n",
      " [1 1]\n",
      " [1 1]\n",
      " [1 1]\n",
      " [1 1]\n",
      " [1 1]\n",
      " [1 0]\n",
      " [1 0]\n",
      " [0 1]\n",
      " [1 1]\n",
      " [1 1]\n",
      " [1 1]\n",
      " [1 1]\n",
      " [1 1]\n",
      " [1 1]\n",
      " [1 1]\n",
      " [1 1]\n",
      " [0 1]\n",
      " [1 1]\n",
      " [0 1]\n",
      " [1 0]\n",
      " [0 0]\n",
      " [1 1]\n",
      " [1 1]\n",
      " [1 1]\n",
      " [0 1]\n",
      " [0 1]\n",
      " [0 1]\n",
      " [0 1]\n",
      " [1 1]\n",
      " [1 1]\n",
      " [1 1]\n",
      " [0 1]\n",
      " [0 0]\n",
      " [1 1]\n",
      " [1 1]\n",
      " [1 1]\n",
      " [1 1]\n",
      " [1 1]\n",
      " [1 1]\n",
      " [1 1]\n",
      " [0 1]\n",
      " [1 1]\n",
      " [1 1]\n",
      " [1 1]\n",
      " [1 0]\n",
      " [1 1]\n",
      " [1 1]\n",
      " [1 0]\n",
      " [1 1]\n",
      " [0 0]\n",
      " [1 1]\n",
      " [1 1]\n",
      " [0 0]\n",
      " [0 0]\n",
      " [0 1]\n",
      " [0 1]\n",
      " [0 0]\n",
      " [1 1]\n",
      " [1 1]\n",
      " [0 1]\n",
      " [1 1]\n",
      " [0 1]\n",
      " [1 1]\n",
      " [1 1]\n",
      " [1 0]\n",
      " [1 1]\n",
      " [1 1]\n",
      " [1 0]\n",
      " [1 1]]\n"
     ]
    }
   ],
   "source": [
    "y_pred = classifier.predict(X_test)\n",
    "print(np.concatenate((y_pred.reshape(len(y_pred),1), y_test.reshape(len(y_test),1)),1))"
   ]
  },
  {
   "cell_type": "code",
   "execution_count": 63,
   "id": "09524cc1",
   "metadata": {},
   "outputs": [
    {
     "name": "stdout",
     "output_type": "stream",
     "text": [
      "[[ 7  9]\n",
      " [16 47]]\n"
     ]
    },
    {
     "data": {
      "text/plain": [
       "0.6835443037974683"
      ]
     },
     "execution_count": 63,
     "metadata": {},
     "output_type": "execute_result"
    }
   ],
   "source": [
    "from sklearn.metrics import confusion_matrix, accuracy_score\n",
    "cm = confusion_matrix(y_test, y_pred)\n",
    "print(cm)\n",
    "accuracy_score(y_test, y_pred)"
   ]
  },
  {
   "cell_type": "code",
   "execution_count": 64,
   "id": "07f0b7b7",
   "metadata": {},
   "outputs": [
    {
     "name": "stdout",
     "output_type": "stream",
     "text": [
      "              precision    recall  f1-score   support\n",
      "\n",
      "           0       0.30      0.44      0.36        16\n",
      "           1       0.84      0.75      0.79        63\n",
      "\n",
      "    accuracy                           0.68        79\n",
      "   macro avg       0.57      0.59      0.57        79\n",
      "weighted avg       0.73      0.68      0.70        79\n",
      "\n"
     ]
    }
   ],
   "source": [
    "from sklearn.metrics import classification_report\n",
    "print(classification_report(y_test,y_pred))"
   ]
  },
  {
   "cell_type": "markdown",
   "id": "1hgXCsY2dGu0",
   "metadata": {
    "id": "1hgXCsY2dGu0"
   },
   "source": [
    "### Results:\n",
    "Below are the results for each classifier:\n",
    "\n",
    "Random Forest Classifier:\n",
    "\n",
    "1. Accuracy: 0.76\n",
    "2. Precision: 0.79\n",
    "3. Recall: 0.95\n",
    "4. F1-Score: 0.86\n",
    "\n",
    "Decision Tree Classifier:\n",
    "1. Accuracy: 0.68\n",
    "2. Precision: 0.84\n",
    "3. Recall: 0.75\n",
    "4. F1-Score: 0.79\n",
    "\n",
    "\n",
    "\n",
    "Based on the evaluation results, this project has aimed to address ECG classification. Through a comprehensive analysis and evaluation of various classifiers, it has been determined that the Random Forest classifier emerged as the top performer, achieving a notable accuracy of 76%.  Further optimization and fine-tuning of hyperparameters may be necessary for the selected classifier.\n"
   ]
  },
  {
   "cell_type": "code",
   "execution_count": null,
   "id": "3611c693",
   "metadata": {},
   "outputs": [],
   "source": []
  }
 ],
 "metadata": {
  "accelerator": "GPU",
  "colab": {
   "gpuType": "T4",
   "provenance": []
  },
  "kernelspec": {
   "display_name": "Python 3 (ipykernel)",
   "language": "python",
   "name": "python3"
  },
  "language_info": {
   "codemirror_mode": {
    "name": "ipython",
    "version": 3
   },
   "file_extension": ".py",
   "mimetype": "text/x-python",
   "name": "python",
   "nbconvert_exporter": "python",
   "pygments_lexer": "ipython3",
   "version": "3.9.7"
  }
 },
 "nbformat": 4,
 "nbformat_minor": 5
}
